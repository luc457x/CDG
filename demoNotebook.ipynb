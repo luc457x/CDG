{
 "cells": [
  {
   "cell_type": "code",
   "execution_count": 1,
   "id": "ea9c448f-1eaf-41c7-b0a4-f229137e24d3",
   "metadata": {},
   "outputs": [
    {
     "name": "stdout",
     "output_type": "stream",
     "text": [
      "{'gecko_says': '(V3) To the Moon!'} AT 14-13-29 FROM 2023-09-04\n"
     ]
    }
   ],
   "source": [
    "import cdg\n",
    "print(cdg.get_server_status())"
   ]
  },
  {
   "cell_type": "code",
   "execution_count": null,
   "id": "235528f8-cdf9-4ec8-b580-370a09e398d8",
   "metadata": {},
   "outputs": [],
   "source": []
  }
 ],
 "metadata": {
  "kernelspec": {
   "display_name": "Python 3 (ipykernel)",
   "language": "python",
   "name": "python3"
  },
  "language_info": {
   "codemirror_mode": {
    "name": "ipython",
    "version": 3
   },
   "file_extension": ".py",
   "mimetype": "text/x-python",
   "name": "python",
   "nbconvert_exporter": "python",
   "pygments_lexer": "ipython3",
   "version": "3.9.2"
  }
 },
 "nbformat": 4,
 "nbformat_minor": 5
}
