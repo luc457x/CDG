{
 "cells": [
  {
   "cell_type": "code",
   "execution_count": 1,
   "id": "ea9c448f-1eaf-41c7-b0a4-f229137e24d3",
   "metadata": {},
   "outputs": [],
   "source": [
    "import cdg"
   ]
  },
  {
   "cell_type": "code",
   "execution_count": 2,
   "id": "300ffbc8",
   "metadata": {},
   "outputs": [
    {
     "data": {
      "text/plain": [
       "\"{'gecko_says': '(V3) To the Moon!'} AT 16-45-21 FROM 2023-09-06\""
      ]
     },
     "execution_count": 2,
     "metadata": {},
     "output_type": "execute_result"
    }
   ],
   "source": [
    "cdg.get_ping()"
   ]
  }
 ],
 "metadata": {
  "kernelspec": {
   "display_name": "Python 3 (ipykernel)",
   "language": "python",
   "name": "python3"
  },
  "language_info": {
   "codemirror_mode": {
    "name": "ipython",
    "version": 3
   },
   "file_extension": ".py",
   "mimetype": "text/x-python",
   "name": "python",
   "nbconvert_exporter": "python",
   "pygments_lexer": "ipython3",
   "version": "3.11.0"
  }
 },
 "nbformat": 4,
 "nbformat_minor": 5
}
