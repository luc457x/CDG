{
 "cells": [
  {
   "cell_type": "code",
   "execution_count": null,
   "id": "01916e26-21cb-4702-b99a-ca19a9044e43",
   "metadata": {},
   "outputs": [],
   "source": [
    "import cdg.base as cdg"
   ]
  },
  {
   "cell_type": "markdown",
   "id": "30c1404a-216b-4b1d-8a00-8a33f46f1d1c",
   "metadata": {
    "jp-MarkdownHeadingCollapsed": true,
    "tags": []
   },
   "source": [
    "# Setup"
   ]
  },
  {
   "cell_type": "code",
   "execution_count": null,
   "id": "e961394e-7cdb-448a-9e6a-3eb5b334c9a5",
   "metadata": {
    "tags": []
   },
   "outputs": [],
   "source": [
    "cdg.change_float_precision(val=8)\n",
    "resume = cdg.get_resume()\n",
    "defi = cdg.get_defi_mkt()\n",
    "pub_treasury = cdg.get_pub_treasury_data()\n",
    "mkt_cap = cdg.get_total_mkt_cap\n",
    "top10mkt_coins = cdg.get_top10_mkt_cap_coins()\n",
    "trending = cdg.get_trending()"
   ]
  },
  {
   "cell_type": "markdown",
   "id": "1aaa3b22-4d1c-4e03-8538-760a123476ca",
   "metadata": {
    "tags": []
   },
   "source": [
    "# Resume"
   ]
  },
  {
   "cell_type": "code",
   "execution_count": null,
   "id": "7b94cf72-46a6-4be1-93c1-089fb4068350",
   "metadata": {
    "jupyter": {
     "source_hidden": true
    },
    "tags": []
   },
   "outputs": [],
   "source": [
    "# Total market value of the cryptomarket and percentage of change on the last 24h\n",
    "print('Total market captalization: \\n')\n",
    "display(mkt_cap())"
   ]
  },
  {
   "cell_type": "code",
   "execution_count": null,
   "id": "5d3c134e-caf8-42a9-8fc9-134eb00ccfe9",
   "metadata": {
    "jupyter": {
     "source_hidden": true
    },
    "tags": []
   },
   "outputs": [],
   "source": [
    "# Top 10 coins by market cap and respective percentage\n",
    "print('Total percentage of top10 coins: \\n')\n",
    "top10mkt_coins"
   ]
  },
  {
   "cell_type": "code",
   "execution_count": null,
   "id": "f24a6122-9db9-4138-8f92-6fcb5653ccf3",
   "metadata": {
    "jupyter": {
     "source_hidden": true
    },
    "tags": []
   },
   "outputs": [],
   "source": [
    "# Basic cryptomarkets data\n",
    "print('Resume of current cryptomarket status: \\n')\n",
    "resume"
   ]
  },
  {
   "cell_type": "code",
   "execution_count": null,
   "id": "99fe3969-cfd3-4fff-be5e-06f2b645178b",
   "metadata": {
    "jupyter": {
     "source_hidden": true
    },
    "tags": []
   },
   "outputs": [],
   "source": [
    "# Value of public constitutional treasuries in USD.\n",
    "print('Value of public constitutional treasuries in USD: \\n')\n",
    "pub_treasury"
   ]
  },
  {
   "cell_type": "code",
   "execution_count": null,
   "id": "1f725f42-2f9c-4f30-a485-66675e91ecb2",
   "metadata": {
    "jupyter": {
     "source_hidden": true
    },
    "tags": []
   },
   "outputs": [],
   "source": [
    "# List of current trending coins\n",
    "print('List of trending coins: \\n')\n",
    "trending"
   ]
  },
  {
   "cell_type": "markdown",
   "id": "ee789fe8-7cc4-44ef-9065-d38a85e451eb",
   "metadata": {
    "tags": []
   },
   "source": [
    "# Basic analysis"
   ]
  },
  {
   "cell_type": "code",
   "execution_count": null,
   "id": "ad68d3d9-7c67-4cde-97d0-78a1df405e4a",
   "metadata": {
    "jupyter": {
     "source_hidden": true
    },
    "tags": []
   },
   "outputs": [],
   "source": [
    "cdg.analyze_coins()"
   ]
  },
  {
   "cell_type": "code",
   "execution_count": null,
   "id": "3d31a16b-acc9-4e2e-8d5d-612c0a524373",
   "metadata": {
    "tags": []
   },
   "outputs": [],
   "source": [
    "# Last prices\n",
    "print('Last prices and expected risk&return plot\\n')\n",
    "display(cdg.analyzed_port['prices'].iloc[-1])\n",
    "print('\\n')\n",
    "cdg.plot_risk_return(close=False)"
   ]
  },
  {
   "cell_type": "code",
   "execution_count": null,
   "id": "76c811a4-cd51-478c-a0b1-2fa3e9cdfbb3",
   "metadata": {
    "jupyter": {
     "source_hidden": true
    },
    "tags": []
   },
   "outputs": [],
   "source": [
    "# Cumulative return and performance plot\n",
    "print(f'Cumulative return and performance plot since {str(cdg.analyzed_port[\"prices\"].index[0])}:','\\n')\n",
    "display(cdg.analyzed_port['cum_return'])\n",
    "print('\\n')\n",
    "cdg.plot_performance(close=False)"
   ]
  }
 ],
 "metadata": {
  "kernelspec": {
   "display_name": "test_venv",
   "language": "python",
   "name": "test_venv"
  },
  "language_info": {
   "codemirror_mode": {
    "name": "ipython",
    "version": 3
   },
   "file_extension": ".py",
   "mimetype": "text/x-python",
   "name": "python",
   "nbconvert_exporter": "python",
   "pygments_lexer": "ipython3",
   "version": "3.9.2"
  },
  "toc-autonumbering": false,
  "toc-showcode": true,
  "toc-showmarkdowntxt": true
 },
 "nbformat": 4,
 "nbformat_minor": 5
}
